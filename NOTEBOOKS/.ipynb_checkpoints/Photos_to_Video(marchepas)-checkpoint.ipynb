{
 "cells": [
  {
   "cell_type": "code",
   "execution_count": 1,
   "id": "bac25b64",
   "metadata": {},
   "outputs": [],
   "source": [
    "import numpy as np\n",
    "import pandas as pd\n",
    "import cv2  as cv\n",
    "import sys\n",
    "import os\n",
    "import random as rng"
   ]
  },
  {
   "cell_type": "code",
   "execution_count": 2,
   "id": "7da3eea9",
   "metadata": {},
   "outputs": [],
   "source": [
    "img_array=[]\n",
    "for filename in os.listdir(os.getcwd()+\"/video30_to_frame\"):\n",
    "    if filename[-13:]==\"_contours.jpg\":\n",
    "        img = cv.imread(\"video30_to_frame/\"+filename)\n",
    "        img_array.append(img)\n",
    "        #creation de la liste des images\n"
   ]
  },
  {
   "cell_type": "code",
   "execution_count": 3,
   "id": "22df914e",
   "metadata": {},
   "outputs": [],
   "source": [
    "width,height,layers=img_array[0].shape\n",
    "size=(width,height)"
   ]
  },
  {
   "cell_type": "code",
   "execution_count": 4,
   "id": "c797a2db",
   "metadata": {},
   "outputs": [],
   "source": [
    "fourcc = cv.VideoWriter_fourcc('M','J','P','G')"
   ]
  },
  {
   "cell_type": "code",
   "execution_count": 8,
   "id": "1f1d5038",
   "metadata": {},
   "outputs": [],
   "source": [
    "out=cv.VideoWriter('video30contours.avi',fourcc=fourcc,fps=30,frameSize=size)#creation de la video avec opencv à partir des images"
   ]
  },
  {
   "cell_type": "code",
   "execution_count": 9,
   "id": "132c20f0",
   "metadata": {},
   "outputs": [],
   "source": [
    "for i in range(len(img_array)):\n",
    "    out.write(img_array[i])#sauvegarde de la video\n"
   ]
  },
  {
   "cell_type": "code",
   "execution_count": 10,
   "id": "d3e5bc57",
   "metadata": {},
   "outputs": [],
   "source": [
    "out.release()"
   ]
  },
  {
   "cell_type": "code",
   "execution_count": 24,
   "id": "db03bf3c",
   "metadata": {},
   "outputs": [],
   "source": [
    "liste=list()\n",
    "for img in img_array:\n",
    "    liste+=[img.shape]"
   ]
  },
  {
   "cell_type": "code",
   "execution_count": 28,
   "id": "d3cbe8d1",
   "metadata": {},
   "outputs": [
    {
     "data": {
      "text/plain": [
       "{(720, 960, 3)}"
      ]
     },
     "execution_count": 28,
     "metadata": {},
     "output_type": "execute_result"
    }
   ],
   "source": [
    "set(liste)"
   ]
  },
  {
   "cell_type": "code",
   "execution_count": null,
   "id": "2b145ad4",
   "metadata": {},
   "outputs": [],
   "source": []
  }
 ],
 "metadata": {
  "kernelspec": {
   "display_name": "Python 3 (ipykernel)",
   "language": "python",
   "name": "python3"
  },
  "language_info": {
   "codemirror_mode": {
    "name": "ipython",
    "version": 3
   },
   "file_extension": ".py",
   "mimetype": "text/x-python",
   "name": "python",
   "nbconvert_exporter": "python",
   "pygments_lexer": "ipython3",
   "version": "3.9.7"
  }
 },
 "nbformat": 4,
 "nbformat_minor": 5
}
