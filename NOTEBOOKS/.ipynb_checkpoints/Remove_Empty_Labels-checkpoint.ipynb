{
 "cells": [
  {
   "cell_type": "code",
   "execution_count": 1,
   "id": "a58de595",
   "metadata": {},
   "outputs": [],
   "source": [
    "import numpy as np\n",
    "import os,sys,glob "
   ]
  },
  {
   "cell_type": "code",
   "execution_count": 2,
   "id": "6d827a95",
   "metadata": {},
   "outputs": [],
   "source": [
    "os.chdir(os.getcwd()+'\\\\names\\\\VID_20220202_163621')\n",
    "for file in glob.glob(\"*.jpg\"):#cherche les fichier jpg dans le dossier spécifié\n",
    "    try:\n",
    "        if os.path.getsize(file[:-4]+'.txt')<=0:#si fichier existant et vide\n",
    "            os.remove(file[:-4]+'.txt')\n",
    "            os.remove(file)\n",
    "    except:#fichier non existant\n",
    "        os.remove(file)"
   ]
  },
  {
   "cell_type": "code",
   "execution_count": 4,
   "id": "7b2510ea",
   "metadata": {},
   "outputs": [],
   "source": [
    "os.chdir(os.getcwd()+'\\\\photos_labels')"
   ]
  },
  {
   "cell_type": "code",
   "execution_count": null,
   "id": "4f5d93e3",
   "metadata": {},
   "outputs": [],
   "source": []
  }
 ],
 "metadata": {
  "kernelspec": {
   "display_name": "Python 3 (ipykernel)",
   "language": "python",
   "name": "python3"
  },
  "language_info": {
   "codemirror_mode": {
    "name": "ipython",
    "version": 3
   },
   "file_extension": ".py",
   "mimetype": "text/x-python",
   "name": "python",
   "nbconvert_exporter": "python",
   "pygments_lexer": "ipython3",
   "version": "3.9.7"
  }
 },
 "nbformat": 4,
 "nbformat_minor": 5
}
