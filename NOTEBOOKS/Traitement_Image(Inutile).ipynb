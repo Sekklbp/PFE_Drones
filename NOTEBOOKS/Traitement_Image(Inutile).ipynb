{
 "cells": [
  {
   "cell_type": "code",
   "execution_count": 9,
   "id": "fdb7f1c4",
   "metadata": {},
   "outputs": [],
   "source": [
    "import numpy as np\n",
    "import pandas as pd\n",
    "import cv2  as cv\n",
    "import sys\n",
    "import os\n",
    "import random as rng\n",
    "from threading import Thread"
   ]
  },
  {
   "cell_type": "code",
   "execution_count": 10,
   "id": "e17d820c",
   "metadata": {},
   "outputs": [],
   "source": [
    "def traitement(image):\n",
    "    gray = cv.cvtColor(image, cv.COLOR_BGR2GRAY)\n",
    "    kernel = np.ones((5,5),np.float32)/25\n",
    "    dst = cv.filter2D(gray,-1,kernel)\n",
    "    edges = cv.Canny(dst,200,200)\n",
    "    rng.seed(12345)\n",
    "    src_gray=gray\n",
    "    threshold=100\n",
    "    contours, hierarchy = cv.findContours(edges, cv.RETR_TREE, cv.CHAIN_APPROX_SIMPLE)\n",
    "    drawing = np.zeros((edges.shape[0], edges.shape[1], 3), dtype=np.uint8)\n",
    "    for i in range(len(contours)):\n",
    "        color = (255,255,255)\n",
    "        cv.drawContours(drawing, contours, i, color, 2, cv.LINE_8, hierarchy, 0)\n",
    "    return image, gray,dst,edges,drawing"
   ]
  },
  {
   "cell_type": "code",
   "execution_count": 11,
   "id": "8f334f4e",
   "metadata": {},
   "outputs": [],
   "source": [
    "def auto(i,j):\n",
    "    for filename_dir in filename_of_dirs[i:j]:\n",
    "        os.mkdir(filename_dir+\"_contours\")\n",
    "        for filename in os.listdir(filename_dir):\n",
    "            try :\n",
    "                image = cv.imread(filename_dir+'/'+filename)\n",
    "                image, gray,dst,edges,drawing=traitement(image)\n",
    "                cv.imwrite(filename_dir+'_contours/'+filename[:-4]+'_contours'+'.jpg',drawing)\n",
    "            except:\n",
    "                print(\"erreur pour\")\n",
    "                print(filename)\n",
    "                pass"
   ]
  },
  {
   "cell_type": "code",
   "execution_count": 12,
   "id": "f8a56e43",
   "metadata": {},
   "outputs": [
    {
     "name": "stdout",
     "output_type": "stream",
     "text": [
      "19\n"
     ]
    }
   ],
   "source": [
    "filename_of_dirs=[]\n",
    "for filename_dir in os.listdir():\n",
    "    if not '.' in filename_dir:\n",
    "        filename_of_dirs+=[filename_dir]\n",
    "print(len(filename_of_dirs))"
   ]
  },
  {
   "cell_type": "code",
   "execution_count": 12,
   "id": "2275c594",
   "metadata": {},
   "outputs": [
    {
     "name": "stdout",
     "output_type": "stream",
     "text": [
      "erreur pour\n",
      "tello.cpython-39.pyc\n"
     ]
    }
   ],
   "source": [
    "recorder1 = Thread(target=auto(0,3))\n",
    "recorder1.start()\n",
    "recorder2 = Thread(target=auto(3,5))\n",
    "recorder2.start()\n",
    "recorder3 = Thread(target=auto(5,7))\n",
    "recorder3.start()\n",
    "recorder4 = Thread(target=auto(7,9))\n",
    "recorder4.start()\n",
    "recorder1.join()\n",
    "recorder2.join()\n",
    "recorder3.join()\n",
    "recorder4.join()"
   ]
  },
  {
   "cell_type": "markdown",
   "id": "c3d9a9f2",
   "metadata": {},
   "source": [
    "for i in [10,25,50,75,100,150,200]:\n",
    "    for j in [10,25,50,75,100,150,200,250,300]:\n",
    "        image = cv.imread('videotestlong10/videotestlong10_145.jpg')\n",
    "        image, gray,dst,edges,drawing=traitement(i,j,image)\n",
    "             \n"
   ]
  },
  {
   "cell_type": "code",
   "execution_count": 8,
   "id": "f4b85445",
   "metadata": {},
   "outputs": [],
   "source": [
    "for filename in os.listdir():\n",
    "    if filename[-4:]==\".jpg\":\n",
    "        image=cv.imread(filename)\n",
    "        image, gray,dst,edges,drawing=traitement(image)\n",
    "        cv.imwrite(filename[:-4]+'_contours'+'.jpg',drawing)"
   ]
  },
  {
   "cell_type": "code",
   "execution_count": 19,
   "id": "cdd67130",
   "metadata": {},
   "outputs": [],
   "source": [
    "cv.imshow('tse',drawing)\n",
    "cv.waitKey(0)\n",
    "cv.destroyAllWindows()"
   ]
  },
  {
   "cell_type": "code",
   "execution_count": null,
   "id": "cf9eeef2",
   "metadata": {},
   "outputs": [],
   "source": []
  }
 ],
 "metadata": {
  "kernelspec": {
   "display_name": "Python 3 (ipykernel)",
   "language": "python",
   "name": "python3"
  },
  "language_info": {
   "codemirror_mode": {
    "name": "ipython",
    "version": 3
   },
   "file_extension": ".py",
   "mimetype": "text/x-python",
   "name": "python",
   "nbconvert_exporter": "python",
   "pygments_lexer": "ipython3",
   "version": "3.9.7"
  }
 },
 "nbformat": 4,
 "nbformat_minor": 5
}
