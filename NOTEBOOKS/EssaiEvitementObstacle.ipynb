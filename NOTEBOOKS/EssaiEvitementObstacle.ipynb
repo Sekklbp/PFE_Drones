{
 "cells": [
  {
   "cell_type": "code",
   "execution_count": 1,
   "id": "418de63e",
   "metadata": {},
   "outputs": [],
   "source": [
    "import cv2 as cv\n",
    "from threading import Thread\n",
    "from djitellopy import Tello\n",
    "import time\n",
    "import numpy as np\n",
    "import pandas as pd\n",
    "import cv2  as cv\n",
    "import sys\n",
    "import os\n",
    "import random as rng\n",
    "from threading import Thread"
   ]
  },
  {
   "cell_type": "code",
   "execution_count": 2,
   "id": "792a1cd8",
   "metadata": {},
   "outputs": [],
   "source": [
    "def traitement(image):\n",
    "    gray = cv.cvtColor(image, cv.COLOR_BGR2GRAY)\n",
    "    kernel = np.ones((5,5),np.float32)/25\n",
    "    dst = cv.filter2D(gray,-1,kernel)\n",
    "    edges = cv.Canny(dst,200,200)\n",
    "    rng.seed(12345)\n",
    "    src_gray=gray\n",
    "    threshold=100\n",
    "    contours, hierarchy = cv.findContours(edges, cv.RETR_TREE, cv.CHAIN_APPROX_SIMPLE)\n",
    "    drawing = np.zeros((edges.shape[0], edges.shape[1], 3), dtype=np.uint8)\n",
    "    for i in range(len(contours)):\n",
    "        color = (255,255,255)\n",
    "        cv.drawContours(drawing, contours, i, color, 2, cv.LINE_8, hierarchy, 0)\n",
    "    return image, gray,dst,edges,drawing"
   ]
  },
  {
   "cell_type": "code",
   "execution_count": 3,
   "id": "bb7dda2b",
   "metadata": {},
   "outputs": [],
   "source": [
    "def a1(image,segmentsi,segmentsj):\n",
    "    liste2=[0]*9\n",
    "    for a in range(3):\n",
    "        for b in range(3):\n",
    "            for i in range(segmentsi[a],segmentsi[a+1]):\n",
    "                for j in range(segmentsj[b],segmentsj[b+1]):\n",
    "                    if list(image[i][j])!=[0,0,0]:\n",
    "                        liste2[a*3+b]+=1\n",
    "    return liste2\n",
    "def decision(image):\n",
    "    liste=[0]*9\n",
    "    maxrow,maxcol,layers=image.shape\n",
    "    segmentsi=[0,maxrow//3,int(maxrow/3+maxrow/3),maxrow]\n",
    "    segmentsj=[0,maxcol//3,int(maxcol/3+maxcol/3),maxcol]\n",
    "    liste=a1(image,segmentsi,segmentsj)\n",
    "    if liste[0]<liste[1] and liste[0]<liste[2]:\n",
    "        return \"Left\"\n",
    "    elif liste[1]<liste[0] and liste[1]<liste[2]:\n",
    "        return \"Middle\"\n",
    "    elif liste[2]<liste[1] and liste[2]<liste[1]:\n",
    "        return \"Right\"\n",
    "    else:\n",
    "        return 'Land'"
   ]
  },
  {
   "cell_type": "code",
   "execution_count": 4,
   "id": "f543e332",
   "metadata": {},
   "outputs": [
    {
     "name": "stderr",
     "output_type": "stream",
     "text": [
      "[INFO] tello.py - 122 - Tello instance was initialized. Host: '192.168.10.1'. Port: '8889'.\n",
      "[INFO] tello.py - 437 - Send command: 'command'\n",
      "[INFO] tello.py - 461 - Response command: 'ok'\n",
      "[INFO] tello.py - 437 - Send command: 'streamon'\n",
      "[INFO] tello.py - 461 - Response streamon: 'ok'\n",
      "[INFO] tello.py - 437 - Send command: 'takeoff'\n"
     ]
    },
    {
     "name": "stdout",
     "output_type": "stream",
     "text": [
      "49\n"
     ]
    },
    {
     "name": "stderr",
     "output_type": "stream",
     "text": [
      "[INFO] tello.py - 461 - Response takeoff: 'ok'\n",
      "[INFO] tello.py - 437 - Send command: 'up 30'\n",
      "[INFO] tello.py - 461 - Response up 30: 'ok'\n",
      "[INFO] tello.py - 437 - Send command: 'down 30'\n",
      "[INFO] tello.py - 461 - Response down 30: 'ok'\n",
      "[INFO] tello.py - 437 - Send command: 'up 30'\n",
      "[INFO] tello.py - 461 - Response up 30: 'ok'\n",
      "[INFO] tello.py - 437 - Send command: 'down 30'\n",
      "[INFO] tello.py - 461 - Response down 30: 'ok'\n",
      "[INFO] tello.py - 437 - Send command: 'cw 30'\n",
      "[INFO] tello.py - 461 - Response cw 30: 'ok'\n",
      "[INFO] tello.py - 437 - Send command: 'ccw 30'\n",
      "[INFO] tello.py - 461 - Response ccw 30: 'ok'\n",
      "[INFO] tello.py - 437 - Send command: 'ccw 30'\n",
      "[INFO] tello.py - 461 - Response ccw 30: 'ok'\n",
      "[INFO] tello.py - 437 - Send command: 'cw 30'\n",
      "[INFO] tello.py - 461 - Response cw 30: 'ok'\n",
      "[INFO] tello.py - 437 - Send command: 'cw 90'\n"
     ]
    },
    {
     "name": "stdout",
     "output_type": "stream",
     "text": [
      "Right\n"
     ]
    },
    {
     "name": "stderr",
     "output_type": "stream",
     "text": [
      "[INFO] tello.py - 461 - Response cw 90: 'ok'\n",
      "[INFO] tello.py - 437 - Send command: 'land'\n"
     ]
    },
    {
     "name": "stdout",
     "output_type": "stream",
     "text": [
      "Right\n"
     ]
    },
    {
     "name": "stderr",
     "output_type": "stream",
     "text": [
      "[INFO] tello.py - 461 - Response land: 'ok'\n"
     ]
    },
    {
     "ename": "NameError",
     "evalue": "name 'recorder' is not defined",
     "output_type": "error",
     "traceback": [
      "\u001b[1;31m---------------------------------------------------------------------------\u001b[0m",
      "\u001b[1;31mNameError\u001b[0m                                 Traceback (most recent call last)",
      "\u001b[1;32m~\\AppData\\Local\\Temp/ipykernel_12940/239879561.py\u001b[0m in \u001b[0;36m<module>\u001b[1;34m\u001b[0m\n\u001b[0;32m     38\u001b[0m \u001b[0mtello\u001b[0m\u001b[1;33m.\u001b[0m\u001b[0mland\u001b[0m\u001b[1;33m(\u001b[0m\u001b[1;33m)\u001b[0m\u001b[1;33m\u001b[0m\u001b[1;33m\u001b[0m\u001b[0m\n\u001b[0;32m     39\u001b[0m \u001b[0mkeepRecording\u001b[0m \u001b[1;33m=\u001b[0m \u001b[1;32mFalse\u001b[0m\u001b[1;33m\u001b[0m\u001b[1;33m\u001b[0m\u001b[0m\n\u001b[1;32m---> 40\u001b[1;33m \u001b[0mrecorder\u001b[0m\u001b[1;33m.\u001b[0m\u001b[0mjoin\u001b[0m\u001b[1;33m(\u001b[0m\u001b[1;33m)\u001b[0m\u001b[1;33m\u001b[0m\u001b[1;33m\u001b[0m\u001b[0m\n\u001b[0m",
      "\u001b[1;31mNameError\u001b[0m: name 'recorder' is not defined"
     ]
    }
   ],
   "source": [
    "tello = Tello()\n",
    "tello.connect()\n",
    "\n",
    "tello.streamon()\n",
    "frame_read = tello.get_frame_read()\n",
    "\n",
    "print(tello.get_battery())\n",
    "\n",
    "\n",
    "tello.takeoff()\n",
    "tello.move_up(30)\n",
    "image=frame_read.frame\n",
    "decision_image=decision(traitement(image)[4])\n",
    "tello.move_down(30)\n",
    "tello.move_up(30)\n",
    "tello.move_down(30)\n",
    "tello.rotate_clockwise(30)\n",
    "tello.rotate_counter_clockwise(30)\n",
    "tello.rotate_counter_clockwise(30)\n",
    "tello.rotate_clockwise(30)\n",
    "print(decision_image)\n",
    "if decision_image==\"Right\":\n",
    "    tello.rotate_clockwise(90)\n",
    "    image=frame_read.frame\n",
    "    decision_image=decision(traitement(image)[4])\n",
    "    print(decision_image)\n",
    "    if decision_image==\"Middle\":\n",
    "        tello.move_forward(50)\n",
    "if decision_image==\"Left\":\n",
    "    tello.rotate_counter_clockwise(90)\n",
    "    image=frame_read.frame\n",
    "    decision_image=decision(traitement(image)[4])\n",
    "    print(decision_image)\n",
    "    if decision_image==\"Middle\":\n",
    "        tello.move_forward(50)\n",
    "elif decision_image==\"Middle\":\n",
    "    tello.move_forward(50)"
   ]
  },
  {
   "cell_type": "code",
   "execution_count": null,
   "id": "9272cafc",
   "metadata": {},
   "outputs": [
    {
     "name": "stderr",
     "output_type": "stream",
     "text": [
      "Exception in thread Thread-10:\n",
      "Traceback (most recent call last):\n",
      "  File \"C:\\Users\\etien\\anaconda3\\lib\\threading.py\", line 973, in _bootstrap_inner\n",
      "    self.run()\n",
      "  File \"C:\\Users\\etien\\anaconda3\\lib\\threading.py\", line 910, in run\n",
      "    self._target(*self._args, **self._kwargs)\n",
      "  File \"C:\\Users\\etien\\anaconda3\\lib\\site-packages\\djitellopy\\tello.py\", line 1065, in update_frame\n",
      "    self.stop()\n",
      "  File \"C:\\Users\\etien\\anaconda3\\lib\\site-packages\\djitellopy\\tello.py\", line 1074, in stop\n",
      "    self.worker.join()\n",
      "  File \"C:\\Users\\etien\\anaconda3\\lib\\threading.py\", line 1050, in join\n",
      "    raise RuntimeError(\"cannot join current thread\")\n",
      "RuntimeError: cannot join current thread\n"
     ]
    }
   ],
   "source": [
    "frame_read.frame.shape"
   ]
  },
  {
   "cell_type": "code",
   "execution_count": null,
   "id": "223b84c2",
   "metadata": {},
   "outputs": [],
   "source": []
  }
 ],
 "metadata": {
  "kernelspec": {
   "display_name": "Python 3 (ipykernel)",
   "language": "python",
   "name": "python3"
  },
  "language_info": {
   "codemirror_mode": {
    "name": "ipython",
    "version": 3
   },
   "file_extension": ".py",
   "mimetype": "text/x-python",
   "name": "python",
   "nbconvert_exporter": "python",
   "pygments_lexer": "ipython3",
   "version": "3.9.7"
  }
 },
 "nbformat": 4,
 "nbformat_minor": 5
}
